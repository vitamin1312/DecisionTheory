{
 "cells": [
  {
   "cell_type": "markdown",
   "metadata": {},
   "source": [
    "<span style=\"font-size:16pt\">\n",
    "<p style=\"text-align: center;\">\n",
    "    МИНОБРНАУКИ РОССИИ <br>\n",
    "    РГУ НЕФТИ И ГАЗА (НИУ) ИМЕНИ И.М. ГУБКИНА<br>\n",
    "    ФАКУЛЬТЕТ АВТОМАТИКИ И ВЫЧИСЛИТЕЛЬНОЙ ТЕХНИКИ<br>\n",
    "    КАФЕДРА АВТОМАТИЗИРОВАННЫХ СИСТЕМ УПРАВЛЕНИЯ<br>  <br>\n",
    "    ДИСЦИПЛИНА <br>\n",
    "        «Теория принятия решений. Нечеткие модели»\n",
    "    <br><br> <br> <br> <br> <br>\n",
    "    ОТЧЁТ <br>\n",
    "    по лабораторной работе №2 <br>\n",
    "    «Нечеткая регрессия»<br> <br> <br> <br> <br>  <br><br>\n",
    "</p>\n",
    "\n",
    "<p style=\"text-align: right;\">\n",
    "    Выполнил:<br>\n",
    "    студент группы АС-21-05, Негробов В.А.<br>\n",
    "    Проверил:<br>\n",
    "    Мазнюк Н.Ю.<br><br> <br> <br> <br> <br><br> <br> <br>\n",
    "\n",
    "<p style=\"text-align: center;\">\n",
    "    МОСКВА 2025\n",
    "</p>\n",
    "   </span>"
   ]
  },
  {
   "cell_type": "markdown",
   "metadata": {},
   "source": [
    "# Библиотеки, используемые в работе:"
   ]
  },
  {
   "cell_type": "code",
   "execution_count": 184,
   "metadata": {},
   "outputs": [],
   "source": [
    "import numpy as np\n",
    "import matplotlib.pyplot as plt\n",
    "import scipy.optimize as opt"
   ]
  },
  {
   "cell_type": "markdown",
   "metadata": {},
   "source": [
    "# Метрики, используемые для оценки точности работы модели"
   ]
  },
  {
   "cell_type": "code",
   "execution_count": 185,
   "metadata": {},
   "outputs": [],
   "source": [
    "def r2_score(y_true, y_pred):\n",
    "    \"\"\"\n",
    "    Коэффициент детерминации\n",
    "    Args:\n",
    "       y_true (array-like): Истинные значения.\n",
    "       y_pred (array-like): Предсказанные значения.\n",
    "    Returns:\n",
    "      float: Коэффициент детерминации.\n",
    "    \"\"\"\n",
    "    ss_res = np.sum((y_true - y_pred) ** 2)\n",
    "    ss_tot = np.sum((y_true - np.mean(y_true)) ** 2)\n",
    "    return float(1 - (ss_res / ss_tot))\n",
    "\n",
    "def mean_absolute_error(y_true, y_pred):\n",
    "    \"\"\"\n",
    "    Средняя абсолютная ошибка\n",
    "    Args:\n",
    "       y_true (array-like): Истинные значения.\n",
    "       y_pred (array-like): Предсказанные значения.\n",
    "    Returns:\n",
    "      float: Средняя абсолютная ошибка.\n",
    "    \"\"\"\n",
    "    return np.mean(np.abs(y_true - y_pred))\n",
    "\n",
    "def mean_squared_error(y_true, y_pred):\n",
    "    \"\"\"\n",
    "    Средняя квадратичная ошибка\n",
    "    Args:\n",
    "       y_true (array-like): Истинные значения.\n",
    "       y_pred (array-like): Предсказанные значения.\n",
    "    Returns:\n",
    "      float: Средняя квадратичная ошибка.\n",
    "    \"\"\"\n",
    "    return np.mean((y_true - y_pred) ** 2)\n",
    "\n",
    "def percent_in_fuzzy(y_pred_lower, y_pred_upper, y_lower, y_upper):\n",
    "    return ((y_pred_lower <= y_lower) & (y_pred_upper >= y_upper)).mean() * 100"
   ]
  },
  {
   "cell_type": "markdown",
   "metadata": {},
   "source": [
    "# Генерация нечётких треугольных данных с шумами:"
   ]
  },
  {
   "cell_type": "code",
   "execution_count": 186,
   "metadata": {},
   "outputs": [],
   "source": [
    "def generate_fuzzy_triangular_data(n_samples=50, a=2, b=30, noise_sigma=3, random_state=1):\n",
    "    \"\"\"Генерация нечётких треугольных данных с шумами.\n",
    "    Args:\n",
    "        n_samples (int): Количество образцов.\n",
    "        a (float): Коэффициент наклона.\n",
    "        b (float): Свободный член.\n",
    "        noise_sigma (float): Стандартное отклонение шума.\n",
    "        random_state (int): Зерно для генератора случайных чисел.\n",
    "    Returns:\n",
    "        X (array-like): Входные данные.\n",
    "        y_central (array-like): Центральные значения нечётких данных.\n",
    "        y_lower (array-like): Нижние значения нечётких данных.\n",
    "        y_upper (array-like): Верхние значения нечётких данных.\n",
    "    \"\"\"\n",
    "    np.random.seed(random_state) # Установка зерна для генерации псевдослучайных чисел\n",
    "    X = np.random.uniform(1, 100, size=(n_samples, 1)) # Входные данные\n",
    "    y_central = a * X.flatten() + b + np.random.normal(0, noise_sigma, n_samples) # Центральные значения\n",
    "    y_upper = y_central + abs(np.random.normal(0, noise_sigma, n_samples)) # Верхние значения\n",
    "    y_lower = y_central - abs(np.random.normal(0, noise_sigma, n_samples)) # Нижние значения\n",
    "    return X, y_central, y_lower, y_upper\n"
   ]
  },
  {
   "cell_type": "markdown",
   "metadata": {},
   "source": [
    "# Реализация нечеткой регрессии"
   ]
  },
  {
   "cell_type": "code",
   "execution_count": 187,
   "metadata": {},
   "outputs": [],
   "source": [
    "def lstsq_fuzzy_regression(X, y_lower, y_upper, y_central):\n",
    "    \"\"\"\n",
    "    Получение коэффициентов для нечёткой регрессии, использующей метод наименьших квадратов.\n",
    "    Args:\n",
    "        X (array-like): Входные данные.\n",
    "        y_lower (array-like): Нижние значения нечётких данных.\n",
    "        y_upper (array-like): Верхние значения нечётких данных.\n",
    "        y_central (array-like): Центральные значения нечётких данных.\n",
    "    Returns:\n",
    "        beta_c (array-like): Центральные коэффициенты регрессии.\n",
    "        beta_w (array-like): Коэффициенты регрессии для зоны нечёткости.\n",
    "    \"\"\"\n",
    "    X = np.hstack([np.ones((X.shape[0], 1)), X]) # Добавляем свободный член в матрицу X\n",
    "    n_vars = X.shape[1]\n",
    "    # Обычная регрессия для центральных коэффициентов\n",
    "    beta_c = np.linalg.lstsq(X, y_central, rcond=None)[0]\n",
    "    # Вычисление ширины нечеткости\n",
    "    c = np.hstack([np.zeros(n_vars), np.ones(n_vars)])\n",
    "    A_ub = np.vstack([\n",
    "        np.hstack([-X, -np.abs(X)]), # -beta_c - beta_w * x <= -y_lower + y_central\n",
    "        np.hstack([X, -np.abs(X)]) # beta_c + beta_w * x >= y_upper - y_central \n",
    "    ])\n",
    "    b_ub = np.hstack([-y_lower + y_central, -y_upper + y_central])\n",
    "\n",
    "    # Решение задачи линейного программирования для ширины нечеткости\n",
    "    result = opt.linprog(c, A_ub=A_ub, b_ub=b_ub, method=\"highs\")\n",
    "    if result.success:\n",
    "        beta_w = result.x[n_vars:]\n",
    "        return beta_c, beta_w\n",
    "    else:\n",
    "        raise ValueError(\"Оптимизация не удалась\")"
   ]
  },
  {
   "cell_type": "markdown",
   "metadata": {},
   "source": [
    "# Генерация данных и применение метода"
   ]
  },
  {
   "cell_type": "code",
   "execution_count": 188,
   "metadata": {},
   "outputs": [
    {
     "data": {
      "text/plain": [
       "(array([29.99602365,  2.00824509]), array([0.        , 0.58823847]))"
      ]
     },
     "execution_count": 188,
     "metadata": {},
     "output_type": "execute_result"
    }
   ],
   "source": [
    "# Генерация данных для нечеткой регрессии\n",
    "X, y_central, y_lower, y_upper = generate_fuzzy_triangular_data()\n",
    "# Применение метода Тананаки для вычиления коэффициентов нечеткой регрессии\n",
    "beta_c, beta_w = lstsq_fuzzy_regression(X, y_lower, y_upper, y_central)\n",
    "beta_c, beta_w"
   ]
  },
  {
   "cell_type": "markdown",
   "metadata": {},
   "source": [
    "# Функция прогнозирования значений"
   ]
  },
  {
   "cell_type": "code",
   "execution_count": 198,
   "metadata": {},
   "outputs": [],
   "source": [
    "def predict(X, beta_c, beta_w):\n",
    "    \"\"\"\n",
    "    Функция для прогнозирования значений нечеткой регрессии.\n",
    "    Args:\n",
    "        X (np.ndarray): Входные данные.\n",
    "        beta_c (np.ndarray): Коэффициенты центральной регрессии.\n",
    "        beta_w (np.ndarray): Коэффициенты ширины нечеткости.\n",
    "    Returns:\n",
    "        y_pred_lower (np.ndarray): Нижняя граница прогнозирования.\n",
    "        y_pred_central (np.ndarray): Центральное прогнозирование.\n",
    "        y_pred_upper (np.ndarray): Верхняя граница прогнозирования.\n",
    "    \"\"\"\n",
    "    # Добавляем столбец из единиц для свободного члена в линейной регрессии\n",
    "    y_pred_central = np.hstack([np.ones((X.shape[0], 1)), X]) @ beta_c\n",
    "    y = y_pred_central[..., None] # Преобразуем y в столбец-вектор\n",
    "    # Расчет верхней и нижней границ прогнозирования для нечеткости\n",
    "    y_pred_upper = y_pred_central + np.hstack([np.ones((y.shape[0], 1)), y]) @ beta_w\n",
    "    y_pred_lower = y_pred_central - np.hstack([np.ones((y.shape[0], 1)), y]) @ beta_w\n",
    "    return y_pred_lower, y_pred_central, y_pred_upper\n",
    "    "
   ]
  },
  {
   "cell_type": "markdown",
   "metadata": {},
   "source": [
    "# Визуализация результатов"
   ]
  },
  {
   "cell_type": "code",
   "execution_count": 199,
   "metadata": {},
   "outputs": [],
   "source": [
    "# Сортировка значений для построения графика\n",
    "indexes = np.argsort(X, axis=0)[:, 0]\n",
    "X_sorted = X[indexes]\n",
    "y_central_sorted = y_central[indexes]\n",
    "y_lower_sorted = y_lower[indexes]\n",
    "y_upper_sorted = y_upper[indexes]\n",
    "# Прогнозирование для отсортированных значений\n",
    "y_pred_lower, y_pred_central, y_pred_upper = predict(X_sorted, beta_c, beta_w)"
   ]
  },
  {
   "cell_type": "code",
   "execution_count": 200,
   "metadata": {},
   "outputs": [
    {
     "data": {
      "image/png": "[encoded data removed]",
      "text/plain": [
       "<Figure size 1000x600 with 1 Axes>"
      ]
     },
     "metadata": {},
     "output_type": "display_data"
    }
   ],
   "source": [
    "# Построение графика\n",
    "plt.figure(figsize=(10, 6))\n",
    "# Исходные точки с нечеткостью\n",
    "plt.scatter(X, y_central, label='Исходные точки', color='blue', alpha=0.5)\n",
    "# Центральные и граничные значения регрессии\n",
    "plt.plot(X_sorted, y_pred_central, label='Центральная линия регрессии',\n",
    "color='red')\n",
    "plt.fill_between(X_sorted.flatten(), y_pred_lower, y_pred_upper, color='gray', alpha=0.3, label='Зона нечеткости')\n",
    "# Настройка графика\n",
    "plt.xlabel('X')\n",
    "plt.ylabel('Y')\n",
    "plt.legend()\n",
    "plt.title('Нечеткая регрессия методом наименьших квадратов')\n",
    "plt.show()\n"
   ]
  },
  {
   "cell_type": "code",
   "execution_count": 201,
   "metadata": {},
   "outputs": [],
   "source": [
    "def in_fuzzy_zone(y_pred_lower, y_pred_upper, y_lower, y_upper):\n",
    "    \"\"\"\n",
    "    Функция для проверки, находится ли значение в зоне нечеткости.\n",
    "    Args:\n",
    "        y_pred_lower (np.ndarray): Нижние значения прогнозируемых значений.\n",
    "        y_pred_upper (np.ndarray): Верхние значения прогнозируемых значений.\n",
    "        y_lower (np.ndarray): Нижние значения истинных значений.\n",
    "        y_upper (np.ndarray): Верхние значения истинных значений.\n",
    "    Returns:\n",
    "        None.\n",
    "    \"\"\"\n",
    "    print(f\"\"\"\n",
    "        Процент значений, которые находятся в зоне нечеткости: {percent_in_fuzzy(y_pred_lower, y_pred_upper, y_lower, y_upper)}%\n",
    "    \"\"\")"
   ]
  },
  {
   "cell_type": "code",
   "execution_count": 202,
   "metadata": {},
   "outputs": [],
   "source": [
    "def calculate_and_print(y_central, y_lower, y_upper, y_pred_central, y_pred_lower, y_pred_upper, metric_function):\n",
    "    \"\"\"\n",
    "   Вычисление и вывод метрики для центральных, верхних и нижних значений.\n",
    "   Args:\n",
    "   y_central (np.ndarray): Центральные значения истинных значений.\n",
    "      y_lower (np.ndarray): Нижние значения истинных значений.\n",
    "      y_upper (np.ndarray): Верхние значения истинных значений.\n",
    "      y_pred_central (np.ndarray): Центральные значения прогнозируемых значений.\n",
    "      y_pred_lower (np.ndarray): Нижние значения прогнозируемых значений.\n",
    "      y_pred_upper (np.ndarray): Верхние значения прогнозируемых значений.\n",
    "      metric_function (function): Функция метрики, которую нужно вычислить.\n",
    "   Returns:\n",
    "      None.\n",
    "    \"\"\"\n",
    "    name = metric_function.__name__\n",
    "    print(f\"\"\"\n",
    "       {name} для центральных значений: {metric_function(y_central, y_pred_central)}\n",
    "       {name} для верхних значений: {metric_function(y_upper, y_pred_upper)}\n",
    "       {name} для нижних значений: {metric_function(y_lower, y_pred_lower)}\n",
    "    \"\"\")"
   ]
  },
  {
   "cell_type": "markdown",
   "metadata": {},
   "source": [
    "Процент точек, находящихся внутри предсказанной зоны нечёткости"
   ]
  },
  {
   "cell_type": "code",
   "execution_count": 203,
   "metadata": {},
   "outputs": [
    {
     "name": "stdout",
     "output_type": "stream",
     "text": [
      "\n",
      "        Процент значений, которые находятся в зоне нечеткости: 100.0%\n",
      "    \n"
     ]
    }
   ],
   "source": [
    "in_fuzzy_zone(y_pred_lower, y_pred_upper, y_lower_sorted, y_upper_sorted)"
   ]
  },
  {
   "cell_type": "markdown",
   "metadata": {},
   "source": [
    "Коэффициент детерминации для\n",
    "- центральных значений;\n",
    "- верхних значений;\n",
    "- нижних значений."
   ]
  },
  {
   "cell_type": "code",
   "execution_count": 195,
   "metadata": {},
   "outputs": [
    {
     "name": "stdout",
     "output_type": "stream",
     "text": [
      "\n",
      "       r2_score для центральных значений: 0.9980046896663707\n",
      "       r2_score для верхних значений: -0.7198167781626887\n",
      "       r2_score для нижних значений: -0.9209589701502783\n",
      "    \n"
     ]
    }
   ],
   "source": [
    "calculate_and_print(y_central_sorted, y_lower_sorted, y_upper_sorted, y_pred_central, y_pred_lower, y_pred_upper, r2_score)"
   ]
  },
  {
   "cell_type": "markdown",
   "metadata": {},
   "source": [
    "Средняя абсолютная ошибка для\n",
    "- центральных значений;\n",
    "- верхних значений;\n",
    "- нижних значений."
   ]
  },
  {
   "cell_type": "code",
   "execution_count": 196,
   "metadata": {},
   "outputs": [
    {
     "name": "stdout",
     "output_type": "stream",
     "text": [
      "\n",
      "       mean_absolute_error для центральных значений: 2.160131095007114\n",
      "       mean_absolute_error для верхних значений: 71.40357589606135\n",
      "       mean_absolute_error для нижних значений: 75.51678150433874\n",
      "    \n"
     ]
    }
   ],
   "source": [
    "calculate_and_print(y_central_sorted, y_lower_sorted, y_upper_sorted, y_pred_central, y_pred_lower, y_pred_upper, mean_absolute_error)"
   ]
  },
  {
   "cell_type": "markdown",
   "metadata": {},
   "source": [
    "Средняя квадратичная ошибка для\n",
    "- центральных значений;\n",
    "- верхних значений;\n",
    "- нижних значений."
   ]
  },
  {
   "cell_type": "code",
   "execution_count": 197,
   "metadata": {},
   "outputs": [
    {
     "name": "stdout",
     "output_type": "stream",
     "text": [
      "\n",
      "       mean_squared_error для центральных значений: 7.365049713239568\n",
      "       mean_squared_error для верхних значений: 6375.453382879995\n",
      "       mean_squared_error для нижних значений: 7014.756924917494\n",
      "    \n"
     ]
    }
   ],
   "source": [
    "calculate_and_print(y_central_sorted, y_lower_sorted, y_upper_sorted, y_pred_central, y_pred_lower, y_pred_upper, mean_squared_error)"
   ]
  }
 ],
 "metadata": {
  "kernelspec": {
   "display_name": ".venv",
   "language": "python",
   "name": "python3"
  },
  "language_info": {
   "codemirror_mode": {
    "name": "ipython",
    "version": 3
   },
   "file_extension": ".py",
   "mimetype": "text/x-python",
   "name": "python",
   "nbconvert_exporter": "python",
   "pygments_lexer": "ipython3",
   "version": "3.11.0"
  }
 },
 "nbformat": 4,
 "nbformat_minor": 4
}
