{
 "cells": [
  {
   "cell_type": "markdown",
   "metadata": {},
   "source": [
    "<span style=\"font-size:16pt\">\n",
    "<p style=\"text-align: center;\">\n",
    "    МИНОБРНАУКИ РОССИИ <br>\n",
    "    РГУ НЕФТИ И ГАЗА (НИУ) ИМЕНИ И.М. ГУБКИНА<br>\n",
    "    ФАКУЛЬТЕТ АВТОМАТИКИ И ВЫЧИСЛИТЕЛЬНОЙ ТЕХНИКИ<br>\n",
    "    КАФЕДРА АВТОМАТИЗИРОВАННЫХ СИСТЕМ УПРАВЛЕНИЯ<br>  <br>\n",
    "    ДИСЦИПЛИНА <br>\n",
    "        «Теория принятия решений. Нечеткие модели»\n",
    "    <br><br> <br> <br> <br> <br>\n",
    "    ОТЧЁТ <br>\n",
    "    по лабораторной работе №4 <br>\n",
    "    «Нечёткий лес<br> <br> <br> <br> <br>  <br><br>\n",
    "</p>\n",
    "\n",
    "<p style=\"text-align: right;\">\n",
    "    Выполнил:<br>\n",
    "    студент группы АС-21-05, Негробов В.А.<br>\n",
    "    Проверил:<br>\n",
    "    Манзюк Н.Ю.<br><br> <br> <br> <br> <br><br> <br> <br>\n",
    "\n",
    "<p style=\"text-align: center;\">\n",
    "    МОСКВА 2025\n",
    "</p>\n",
    "   </span>"
   ]
  },
  {
   "cell_type": "code",
   "execution_count": 211,
   "metadata": {},
   "outputs": [],
   "source": [
    "import numpy as np\n",
    "import pandas as pd\n",
    "from sklearn.model_selection import train_test_split\n",
    "from sklearn.metrics import accuracy_score, classification_report\n",
    "from scipy.stats import mode\n",
    "from sklearn.preprocessing import LabelEncoder\n",
    "from imblearn.over_sampling import SMOTE\n",
    "from sklearn.ensemble import RandomForestClassifier\n",
    "import matplotlib.pyplot as plt\n",
    "import seaborn as sns\n",
    "import numba as nb"
   ]
  },
  {
   "cell_type": "markdown",
   "metadata": {},
   "source": [
    "Дерево решений – широко известный и популярный метод автоматического анализа данных, в основе которого лежит обучение на примерах. Правила представлены в виде иерархической последовательной структуры, где каждый объект принадлежит конкретному узлу.\n",
    "\n",
    "Однако может возникнуть случай, когда точно классифицировать объект по тому или иному признаку довольно трудно. Эти ситуации разрешаются благодаря возможностям нечеткой логики, когда говорят не просто о принадлежности к кому-то классу, признаку, атрибуту, а о её степени. При использовании нечетких деревьев решений (fuzzy decision trees) не теряются знания о том, что объект может обладать свойствами как одного признака, так и другого в той или иной мере.\n",
    "\n",
    "Главной идеей в таком подходе является сочетание возможностей деревьев решений и нечеткой логики."
   ]
  },
  {
   "cell_type": "markdown",
   "metadata": {},
   "source": [
    "Отличительной чертой деревьев решений является то, что каждый пример определенно принадлежит конкретному узлу. В нечетком случае это не так. Для каждого атрибута необходимо выделить несколько его лингвистических значений и определить степени принадлежности примеров к ним. Вместо количества примеров конкретного узла нечеткое дерево решений группирует их степень принадлежности. Коэффициент – это соотношение примеров Dj∈SN\n",
    " узла N\n",
    " для целевого значения i\n",
    ", вычисляемый как:"
   ]
  },
  {
   "attachments": {
    "{F60B047B-AAF3-448E-B481-5CD8B47C7D2D}.png": {
     "image/png": "[encoded data removed]"
    }
   },
   "cell_type": "markdown",
   "metadata": {},
   "source": [
    "![{F60B047B-AAF3-448E-B481-5CD8B47C7D2D}.png](attachment:{F60B047B-AAF3-448E-B481-5CD8B47C7D2D}.png)"
   ]
  },
  {
   "cell_type": "markdown",
   "metadata": {},
   "source": [
    "где $\\mu_N(D_j)$\n",
    " – степень принадлежности примера Dj\n",
    " к узлу N\n",
    ", $\\mu_i(D_j)$\n",
    " – степень принадлежности примера относительно целевого значения i\n",
    ", $S_N$\n",
    " – множество всех примеров узла N\n",
    ". Затем находим коэффициент $P_N$\n",
    ", обозначающий общие характеристики примеров узла N\n",
    ". В стандартном алгоритме дерева решений определяется отношение числа примеров, принадлежащих конкретному атрибуту, к общему числу примеров. Для нечетких деревьев используется отношение $\\frac{{P_i}^N}{P^N}$\n",
    ", для расчета которого учитывается степень принадлежности."
   ]
  },
  {
   "cell_type": "code",
   "execution_count": 212,
   "metadata": {},
   "outputs": [],
   "source": [
    "class FuzzyDecisionTree:\n",
    "    def __init__(self, max_depth=3, min_samples_split=2, k=10):\n",
    "        \"\"\"\n",
    "        max_depth: максимальная глубина дерева\n",
    "        min_samples_split: минимальное число образцов для разбиения узла\n",
    "        k: параметр, определяющий «размытие» разделения (чем больше k, тем резче разделение)\n",
    "        \"\"\"\n",
    "        self.max_depth = max_depth\n",
    "        self.min_samples_split = min_samples_split\n",
    "        self.k = k\n",
    "        self.tree = None\n",
    "\n",
    "    def fit(self, X, y):\n",
    "        self.n_classes = len(np.unique(y))\n",
    "        data = np.hstack([X, y.reshape(-1,1)])\n",
    "        self.tree = self._build_tree(data, depth=0)\n",
    "\n",
    "    @staticmethod\n",
    "    def get_candidate_thresholds(values):\n",
    "        return (values[:-1] + values[1:]) / 2\n",
    "    \n",
    "    @staticmethod\n",
    "    def calculate_fuzzy_weights(feature_values, threshold, k):\n",
    "        left_weights = 1 / (1 + np.exp(k * (feature_values - threshold)))\n",
    "        right_weights = 1 - left_weights\n",
    "        return left_weights, right_weights\n",
    "    \n",
    "    @staticmethod\n",
    "    def calculate_weighted_impurity(left_distribution, right_distribution, left_total, right_total):\n",
    "        impurity_left = 1 - np.sum((np.array(left_distribution)/left_total)**2) if left_total > 0 else 0\n",
    "        impurity_right = 1 - np.sum((np.array(right_distribution)/right_total)**2) if right_total > 0 else 0\n",
    "\n",
    "        return (left_total * impurity_left + right_total * impurity_right) / (left_total + right_total)\n",
    "\n",
    "\n",
    "    def _build_tree(self, data, depth):\n",
    "        # Если достигнута максимальная глубина или слишком мало образцов, создаём лист\n",
    "        if depth == self.max_depth or len(data) < self.min_samples_split:\n",
    "            distribution = {}\n",
    "            for c in np.unique(data[:,-1]):\n",
    "                distribution[c] = np.mean(data[:,-1] == c)\n",
    "            return {'is_leaf': True, 'class_distribution': distribution}\n",
    "\n",
    "        best_feature = None\n",
    "        best_threshold = None\n",
    "        best_impurity = np.inf\n",
    "        best_split = None\n",
    "\n",
    "        n_features = data.shape[1] - 1\n",
    "        # Перебор всех признаков и кандидатов для порога\n",
    "        for feature in range(n_features):\n",
    "            values = data[:, feature]\n",
    "            unique_vals = np.unique(values)\n",
    "            if len(unique_vals) == 1:\n",
    "                continue\n",
    "            # Используем средние точки между отсортированными уникальными значениями\n",
    "            candidate_thresholds = self.get_candidate_thresholds(unique_vals)\n",
    "            for threshold in candidate_thresholds:\n",
    "                # Вычисляем степень принадлежности к левой ветке с помощью сигмоидальной функции\n",
    "                left_weights, right_weights = self.calculate_fuzzy_weights(data[:, feature], threshold, self.k)\n",
    "\n",
    "                total_left = np.sum(left_weights)\n",
    "                total_right = np.sum(right_weights)\n",
    "                if total_left < 1e-6 or total_right < 1e-6:\n",
    "                    continue\n",
    "\n",
    "                # Расчёт нечеткой (взвешенной) классификации для каждой ветки\n",
    "                left_distribution = {}\n",
    "                right_distribution = {}\n",
    "                for c in range(self.n_classes):\n",
    "                    mask = (data[:,-1] == c)\n",
    "                    w_left = np.sum(left_weights[mask])\n",
    "                    w_right = np.sum(right_weights[mask])\n",
    "                    left_distribution[c] = w_left\n",
    "                    right_distribution[c] = w_right\n",
    "\n",
    "                left_total = np.sum(list(left_distribution.values()))\n",
    "                right_total = np.sum(list(right_distribution.values()))\n",
    "\n",
    "\n",
    "                weighted_impurity = self.calculate_weighted_impurity(list(left_distribution.values()), list(right_distribution.values()), left_total, right_total)\n",
    "                if weighted_impurity < best_impurity:\n",
    "                    best_impurity = weighted_impurity\n",
    "                    best_feature = feature\n",
    "                    best_threshold = threshold\n",
    "                    best_split = (left_weights, right_weights)\n",
    "\n",
    "        # Если не найдено подходящего разбиения, создаём лист\n",
    "        if best_feature is None:\n",
    "            distribution = {}\n",
    "            for c in np.unique(data[:,-1]):\n",
    "                distribution[c] = np.mean(data[:,-1] == c)\n",
    "            return {'is_leaf': True, 'class_distribution': distribution}\n",
    "\n",
    "        # \"Жёсткое\" разбиение: каждый объект идёт в ту ветку, к которой у него степень принадлежности больше\n",
    "        crisp_assignments = best_split[0] >= best_split[1]\n",
    "        left_data = data[crisp_assignments]\n",
    "        right_data = data[~crisp_assignments]\n",
    "\n",
    "        left_tree = self._build_tree(left_data, depth+1)\n",
    "        right_tree = self._build_tree(right_data, depth+1)\n",
    "        return {\n",
    "            'is_leaf': False,\n",
    "            'feature': best_feature,\n",
    "            'threshold': best_threshold,\n",
    "            'left': left_tree,\n",
    "            'right': right_tree\n",
    "        }\n",
    "\n",
    "    def _predict_sample(self, x, node):\n",
    "        # Рекурсивный проход по дереву\n",
    "        if node['is_leaf']:\n",
    "            return node['class_distribution']\n",
    "        feature = node['feature']\n",
    "        threshold = node['threshold']\n",
    "        left_weight = 1 / (1 + np.exp(self.k * (x[feature] - threshold)))\n",
    "        right_weight = 1 - left_weight\n",
    "        left_pred = self._predict_sample(x, node['left'])\n",
    "        right_pred = self._predict_sample(x, node['right'])\n",
    "        # Агрегация предсказаний с учётом нечетких весов\n",
    "        combined = {}\n",
    "        for c in range(self.n_classes):\n",
    "            combined[c] = left_weight * left_pred.get(c, 0) + right_weight * right_pred.get(c, 0)\n",
    "        return combined\n",
    "\n",
    "    def predict(self, X):\n",
    "        preds = []\n",
    "        for i in range(X.shape[0]):\n",
    "            distribution = self._predict_sample(X[i], self.tree)\n",
    "            pred_class = max(distribution, key=distribution.get)\n",
    "            preds.append(pred_class)\n",
    "        return np.array(preds)"
   ]
  },
  {
   "cell_type": "code",
   "execution_count": 213,
   "metadata": {},
   "outputs": [],
   "source": [
    "class FuzzyRandomForest:\n",
    "    def __init__(self, n_estimators=10, max_depth=3, min_samples_split=2, k=10):\n",
    "        self.n_estimators = n_estimators\n",
    "        self.max_depth = max_depth\n",
    "        self.min_samples_split = min_samples_split\n",
    "        self.k = k\n",
    "        self.trees = []\n",
    "\n",
    "    def fit(self, X, y):\n",
    "        n_samples, n_features = X.shape\n",
    "        for i in range(self.n_estimators):\n",
    "            # Bootstrap-подвыборка\n",
    "            indices = np.random.choice(n_samples, n_samples, replace=True)\n",
    "            X_sample = X[indices]\n",
    "            y_sample = y[indices]\n",
    "            tree = FuzzyDecisionTree(\n",
    "                max_depth=self.max_depth,\n",
    "                min_samples_split=self.min_samples_split,\n",
    "                k=self.k\n",
    "            )\n",
    "            tree.fit(X_sample, y_sample)\n",
    "            self.trees.append(tree)\n",
    "\n",
    "    def predict(self, X):\n",
    "        predictions = []\n",
    "        for tree in self.trees:\n",
    "            predictions.append(tree.predict(X))\n",
    "        predictions = np.array(predictions)  # форма (n_estimators, n_samples)\n",
    "        final_predictions, _ = mode(predictions, axis=0)\n",
    "        return final_predictions.flatten()"
   ]
  },
  {
   "cell_type": "code",
   "execution_count": 214,
   "metadata": {},
   "outputs": [],
   "source": [
    "def print_tree(node, indent=\"\"):\n",
    "    \"\"\"\n",
    "    Рекурсивная печать структуры дерева в консоль.\n",
    "    \"\"\"\n",
    "    if node['is_leaf']:\n",
    "        print(indent + \"Лист:\", {k: float(round(v, 2))\n",
    "                                 for k, v in node['class_distribution'].items()})\n",
    "    else:\n",
    "        print(indent + f\"Разбиение: feature[{node['feature']}] < {node['threshold']:.2f}\")\n",
    "        print(indent + \" -> Левая ветка:\")\n",
    "        print_tree(node['left'], indent + \"  \")\n",
    "        print(indent + \" -> Правая ветка:\")\n",
    "        print_tree(node['right'], indent + \"  \")"
   ]
  },
  {
   "cell_type": "code",
   "execution_count": 215,
   "metadata": {},
   "outputs": [
    {
     "data": {
      "text/html": [
       "<div>\n",
       "<style scoped>\n",
       "    .dataframe tbody tr th:only-of-type {\n",
       "        vertical-align: middle;\n",
       "    }\n",
       "\n",
       "    .dataframe tbody tr th {\n",
       "        vertical-align: top;\n",
       "    }\n",
       "\n",
       "    .dataframe thead th {\n",
       "        text-align: right;\n",
       "    }\n",
       "</style>\n",
       "<table border=\"1\" class=\"dataframe\">\n",
       "  <thead>\n",
       "    <tr style=\"text-align: right;\">\n",
       "      <th></th>\n",
       "      <th>fixed acidity</th>\n",
       "      <th>volatile acidity</th>\n",
       "      <th>citric acid</th>\n",
       "      <th>residual sugar</th>\n",
       "      <th>chlorides</th>\n",
       "      <th>free sulfur dioxide</th>\n",
       "      <th>total sulfur dioxide</th>\n",
       "      <th>density</th>\n",
       "      <th>pH</th>\n",
       "      <th>sulphates</th>\n",
       "      <th>alcohol</th>\n",
       "      <th>quality</th>\n",
       "    </tr>\n",
       "    <tr>\n",
       "      <th>Id</th>\n",
       "      <th></th>\n",
       "      <th></th>\n",
       "      <th></th>\n",
       "      <th></th>\n",
       "      <th></th>\n",
       "      <th></th>\n",
       "      <th></th>\n",
       "      <th></th>\n",
       "      <th></th>\n",
       "      <th></th>\n",
       "      <th></th>\n",
       "      <th></th>\n",
       "    </tr>\n",
       "  </thead>\n",
       "  <tbody>\n",
       "    <tr>\n",
       "      <th>0</th>\n",
       "      <td>7.4</td>\n",
       "      <td>0.700</td>\n",
       "      <td>0.00</td>\n",
       "      <td>1.9</td>\n",
       "      <td>0.076</td>\n",
       "      <td>11.0</td>\n",
       "      <td>34.0</td>\n",
       "      <td>0.99780</td>\n",
       "      <td>3.51</td>\n",
       "      <td>0.56</td>\n",
       "      <td>9.4</td>\n",
       "      <td>5</td>\n",
       "    </tr>\n",
       "    <tr>\n",
       "      <th>1</th>\n",
       "      <td>7.8</td>\n",
       "      <td>0.880</td>\n",
       "      <td>0.00</td>\n",
       "      <td>2.6</td>\n",
       "      <td>0.098</td>\n",
       "      <td>25.0</td>\n",
       "      <td>67.0</td>\n",
       "      <td>0.99680</td>\n",
       "      <td>3.20</td>\n",
       "      <td>0.68</td>\n",
       "      <td>9.8</td>\n",
       "      <td>5</td>\n",
       "    </tr>\n",
       "    <tr>\n",
       "      <th>2</th>\n",
       "      <td>7.8</td>\n",
       "      <td>0.760</td>\n",
       "      <td>0.04</td>\n",
       "      <td>2.3</td>\n",
       "      <td>0.092</td>\n",
       "      <td>15.0</td>\n",
       "      <td>54.0</td>\n",
       "      <td>0.99700</td>\n",
       "      <td>3.26</td>\n",
       "      <td>0.65</td>\n",
       "      <td>9.8</td>\n",
       "      <td>5</td>\n",
       "    </tr>\n",
       "    <tr>\n",
       "      <th>3</th>\n",
       "      <td>11.2</td>\n",
       "      <td>0.280</td>\n",
       "      <td>0.56</td>\n",
       "      <td>1.9</td>\n",
       "      <td>0.075</td>\n",
       "      <td>17.0</td>\n",
       "      <td>60.0</td>\n",
       "      <td>0.99800</td>\n",
       "      <td>3.16</td>\n",
       "      <td>0.58</td>\n",
       "      <td>9.8</td>\n",
       "      <td>6</td>\n",
       "    </tr>\n",
       "    <tr>\n",
       "      <th>4</th>\n",
       "      <td>7.4</td>\n",
       "      <td>0.700</td>\n",
       "      <td>0.00</td>\n",
       "      <td>1.9</td>\n",
       "      <td>0.076</td>\n",
       "      <td>11.0</td>\n",
       "      <td>34.0</td>\n",
       "      <td>0.99780</td>\n",
       "      <td>3.51</td>\n",
       "      <td>0.56</td>\n",
       "      <td>9.4</td>\n",
       "      <td>5</td>\n",
       "    </tr>\n",
       "    <tr>\n",
       "      <th>...</th>\n",
       "      <td>...</td>\n",
       "      <td>...</td>\n",
       "      <td>...</td>\n",
       "      <td>...</td>\n",
       "      <td>...</td>\n",
       "      <td>...</td>\n",
       "      <td>...</td>\n",
       "      <td>...</td>\n",
       "      <td>...</td>\n",
       "      <td>...</td>\n",
       "      <td>...</td>\n",
       "      <td>...</td>\n",
       "    </tr>\n",
       "    <tr>\n",
       "      <th>1592</th>\n",
       "      <td>6.3</td>\n",
       "      <td>0.510</td>\n",
       "      <td>0.13</td>\n",
       "      <td>2.3</td>\n",
       "      <td>0.076</td>\n",
       "      <td>29.0</td>\n",
       "      <td>40.0</td>\n",
       "      <td>0.99574</td>\n",
       "      <td>3.42</td>\n",
       "      <td>0.75</td>\n",
       "      <td>11.0</td>\n",
       "      <td>6</td>\n",
       "    </tr>\n",
       "    <tr>\n",
       "      <th>1593</th>\n",
       "      <td>6.8</td>\n",
       "      <td>0.620</td>\n",
       "      <td>0.08</td>\n",
       "      <td>1.9</td>\n",
       "      <td>0.068</td>\n",
       "      <td>28.0</td>\n",
       "      <td>38.0</td>\n",
       "      <td>0.99651</td>\n",
       "      <td>3.42</td>\n",
       "      <td>0.82</td>\n",
       "      <td>9.5</td>\n",
       "      <td>6</td>\n",
       "    </tr>\n",
       "    <tr>\n",
       "      <th>1594</th>\n",
       "      <td>6.2</td>\n",
       "      <td>0.600</td>\n",
       "      <td>0.08</td>\n",
       "      <td>2.0</td>\n",
       "      <td>0.090</td>\n",
       "      <td>32.0</td>\n",
       "      <td>44.0</td>\n",
       "      <td>0.99490</td>\n",
       "      <td>3.45</td>\n",
       "      <td>0.58</td>\n",
       "      <td>10.5</td>\n",
       "      <td>5</td>\n",
       "    </tr>\n",
       "    <tr>\n",
       "      <th>1595</th>\n",
       "      <td>5.9</td>\n",
       "      <td>0.550</td>\n",
       "      <td>0.10</td>\n",
       "      <td>2.2</td>\n",
       "      <td>0.062</td>\n",
       "      <td>39.0</td>\n",
       "      <td>51.0</td>\n",
       "      <td>0.99512</td>\n",
       "      <td>3.52</td>\n",
       "      <td>0.76</td>\n",
       "      <td>11.2</td>\n",
       "      <td>6</td>\n",
       "    </tr>\n",
       "    <tr>\n",
       "      <th>1597</th>\n",
       "      <td>5.9</td>\n",
       "      <td>0.645</td>\n",
       "      <td>0.12</td>\n",
       "      <td>2.0</td>\n",
       "      <td>0.075</td>\n",
       "      <td>32.0</td>\n",
       "      <td>44.0</td>\n",
       "      <td>0.99547</td>\n",
       "      <td>3.57</td>\n",
       "      <td>0.71</td>\n",
       "      <td>10.2</td>\n",
       "      <td>5</td>\n",
       "    </tr>\n",
       "  </tbody>\n",
       "</table>\n",
       "<p>1143 rows × 12 columns</p>\n",
       "</div>"
      ],
      "text/plain": [
       "      fixed acidity  volatile acidity  citric acid  residual sugar  chlorides  \\\n",
       "Id                                                                              \n",
       "0               7.4             0.700         0.00             1.9      0.076   \n",
       "1               7.8             0.880         0.00             2.6      0.098   \n",
       "2               7.8             0.760         0.04             2.3      0.092   \n",
       "3              11.2             0.280         0.56             1.9      0.075   \n",
       "4               7.4             0.700         0.00             1.9      0.076   \n",
       "...             ...               ...          ...             ...        ...   \n",
       "1592            6.3             0.510         0.13             2.3      0.076   \n",
       "1593            6.8             0.620         0.08             1.9      0.068   \n",
       "1594            6.2             0.600         0.08             2.0      0.090   \n",
       "1595            5.9             0.550         0.10             2.2      0.062   \n",
       "1597            5.9             0.645         0.12             2.0      0.075   \n",
       "\n",
       "      free sulfur dioxide  total sulfur dioxide  density    pH  sulphates  \\\n",
       "Id                                                                          \n",
       "0                    11.0                  34.0  0.99780  3.51       0.56   \n",
       "1                    25.0                  67.0  0.99680  3.20       0.68   \n",
       "2                    15.0                  54.0  0.99700  3.26       0.65   \n",
       "3                    17.0                  60.0  0.99800  3.16       0.58   \n",
       "4                    11.0                  34.0  0.99780  3.51       0.56   \n",
       "...                   ...                   ...      ...   ...        ...   \n",
       "1592                 29.0                  40.0  0.99574  3.42       0.75   \n",
       "1593                 28.0                  38.0  0.99651  3.42       0.82   \n",
       "1594                 32.0                  44.0  0.99490  3.45       0.58   \n",
       "1595                 39.0                  51.0  0.99512  3.52       0.76   \n",
       "1597                 32.0                  44.0  0.99547  3.57       0.71   \n",
       "\n",
       "      alcohol  quality  \n",
       "Id                      \n",
       "0         9.4        5  \n",
       "1         9.8        5  \n",
       "2         9.8        5  \n",
       "3         9.8        6  \n",
       "4         9.4        5  \n",
       "...       ...      ...  \n",
       "1592     11.0        6  \n",
       "1593      9.5        6  \n",
       "1594     10.5        5  \n",
       "1595     11.2        6  \n",
       "1597     10.2        5  \n",
       "\n",
       "[1143 rows x 12 columns]"
      ]
     },
     "execution_count": 215,
     "metadata": {},
     "output_type": "execute_result"
    }
   ],
   "source": [
    "data_path = r'data\\WineQT.csv'\n",
    "target_var = 'quality'\n",
    "df = pd.read_csv(data_path, index_col='Id')\n",
    "df"
   ]
  },
  {
   "cell_type": "code",
   "execution_count": 216,
   "metadata": {},
   "outputs": [
    {
     "data": {
      "text/plain": [
       "<Axes: >"
      ]
     },
     "execution_count": 216,
     "metadata": {},
     "output_type": "execute_result"
    },
    {
     "data": {
      "image/png": "[encoded data removed]",
      "text/plain": [
       "<Figure size 2500x1000 with 1 Axes>"
      ]
     },
     "metadata": {},
     "output_type": "display_data"
    }
   ],
   "source": [
    "plt.figure(figsize=(25, 10))\n",
    "df.boxplot()"
   ]
  },
  {
   "cell_type": "code",
   "execution_count": 217,
   "metadata": {},
   "outputs": [
    {
     "data": {
      "text/plain": [
       "<Axes: xlabel='quality', ylabel='Count'>"
      ]
     },
     "execution_count": 217,
     "metadata": {},
     "output_type": "execute_result"
    },
    {
     "data": {
      "image/png": "[encoded data removed]",
      "text/plain": [
       "<Figure size 640x480 with 1 Axes>"
      ]
     },
     "metadata": {},
     "output_type": "display_data"
    }
   ],
   "source": [
    "sns.histplot(data=df, x=target_var, fill=True, binwidth=1)"
   ]
  },
  {
   "cell_type": "code",
   "execution_count": 218,
   "metadata": {},
   "outputs": [
    {
     "data": {
      "text/plain": [
       "((1143, 11), (1143,))"
      ]
     },
     "execution_count": 218,
     "metadata": {},
     "output_type": "execute_result"
    }
   ],
   "source": [
    "X = df.drop(target_var, axis=1).values\n",
    "y = df[target_var].values\n",
    "X.shape, y.shape"
   ]
  },
  {
   "cell_type": "code",
   "execution_count": 219,
   "metadata": {},
   "outputs": [],
   "source": [
    "sm = SMOTE(random_state=42)\n",
    "X, y = sm.fit_resample(X, y)"
   ]
  },
  {
   "cell_type": "code",
   "execution_count": 220,
   "metadata": {},
   "outputs": [
    {
     "data": {
      "text/plain": [
       "<Axes: ylabel='Count'>"
      ]
     },
     "execution_count": 220,
     "metadata": {},
     "output_type": "execute_result"
    },
    {
     "data": {
      "image/png": "[encoded data removed]",
      "text/plain": [
       "<Figure size 640x480 with 1 Axes>"
      ]
     },
     "metadata": {},
     "output_type": "display_data"
    }
   ],
   "source": [
    "sns.histplot(y, fill=True, binwidth=1)"
   ]
  },
  {
   "cell_type": "code",
   "execution_count": 221,
   "metadata": {},
   "outputs": [
    {
     "data": {
      "text/plain": [
       "(np.int64(0), np.int64(5))"
      ]
     },
     "execution_count": 221,
     "metadata": {},
     "output_type": "execute_result"
    }
   ],
   "source": [
    "le = LabelEncoder()\n",
    "y = le.fit_transform(y)\n",
    "y.min(), y.max()"
   ]
  },
  {
   "cell_type": "code",
   "execution_count": 222,
   "metadata": {},
   "outputs": [
    {
     "data": {
      "text/plain": [
       "((2318, 11), (580, 11), (2318,), (580,))"
      ]
     },
     "execution_count": 222,
     "metadata": {},
     "output_type": "execute_result"
    }
   ],
   "source": [
    "X_train, X_test, y_train, y_test = train_test_split(X, y, test_size=0.2, random_state=42)\n",
    "X_train.shape, X_test.shape, y_train.shape, y_test.shape"
   ]
  },
  {
   "cell_type": "markdown",
   "metadata": {},
   "source": [
    "Чёткий случайный лес"
   ]
  },
  {
   "cell_type": "code",
   "execution_count": 223,
   "metadata": {},
   "outputs": [],
   "source": [
    "forest = RandomForestClassifier()\n",
    "forest.fit(X_train, y_train)\n",
    "y_train_pred = forest.predict(X_train)\n",
    "y_test_pred = forest.predict(X_test)"
   ]
  },
  {
   "cell_type": "code",
   "execution_count": 224,
   "metadata": {},
   "outputs": [
    {
     "data": {
      "text/plain": [
       "(1.0, 0.8637931034482759)"
      ]
     },
     "execution_count": 224,
     "metadata": {},
     "output_type": "execute_result"
    }
   ],
   "source": [
    "accuracy_score(y_train, y_train_pred), accuracy_score(y_test, y_test_pred)"
   ]
  },
  {
   "cell_type": "code",
   "execution_count": 225,
   "metadata": {},
   "outputs": [
    {
     "name": "stdout",
     "output_type": "stream",
     "text": [
      "              precision    recall  f1-score   support\n",
      "\n",
      "           0       1.00      1.00      1.00       386\n",
      "           1       1.00      1.00      1.00       391\n",
      "           2       1.00      1.00      1.00       375\n",
      "           3       1.00      1.00      1.00       388\n",
      "           4       1.00      1.00      1.00       387\n",
      "           5       1.00      1.00      1.00       391\n",
      "\n",
      "    accuracy                           1.00      2318\n",
      "   macro avg       1.00      1.00      1.00      2318\n",
      "weighted avg       1.00      1.00      1.00      2318\n",
      "\n"
     ]
    }
   ],
   "source": [
    "print(classification_report(y_train, y_train_pred))"
   ]
  },
  {
   "cell_type": "code",
   "execution_count": 226,
   "metadata": {},
   "outputs": [
    {
     "name": "stdout",
     "output_type": "stream",
     "text": [
      "              precision    recall  f1-score   support\n",
      "\n",
      "           0       1.00      1.00      1.00        97\n",
      "           1       0.92      0.97      0.94        92\n",
      "           2       0.79      0.69      0.74       108\n",
      "           3       0.67      0.61      0.64        95\n",
      "           4       0.82      0.97      0.89        96\n",
      "           5       0.99      0.97      0.98        92\n",
      "\n",
      "    accuracy                           0.86       580\n",
      "   macro avg       0.86      0.87      0.86       580\n",
      "weighted avg       0.86      0.86      0.86       580\n",
      "\n"
     ]
    }
   ],
   "source": [
    "print(classification_report(y_test, y_test_pred))"
   ]
  },
  {
   "cell_type": "markdown",
   "metadata": {},
   "source": [
    "Нечёткий случайный лес"
   ]
  },
  {
   "cell_type": "code",
   "execution_count": 227,
   "metadata": {},
   "outputs": [],
   "source": [
    "forest = FuzzyRandomForest(\n",
    "    n_estimators=10,\n",
    "    max_depth=3,\n",
    "    min_samples_split=10,\n",
    "    k=2\n",
    ")\n",
    "\n",
    "forest.fit(X_train, y_train)"
   ]
  },
  {
   "cell_type": "code",
   "execution_count": 228,
   "metadata": {},
   "outputs": [],
   "source": [
    "y_train_pred = forest.predict(X_train)\n",
    "y_test_pred = forest.predict(X_test)"
   ]
  },
  {
   "cell_type": "code",
   "execution_count": 229,
   "metadata": {},
   "outputs": [
    {
     "data": {
      "text/plain": [
       "(0.45211389128559104, 0.45)"
      ]
     },
     "execution_count": 229,
     "metadata": {},
     "output_type": "execute_result"
    }
   ],
   "source": [
    "accuracy_score(y_train, y_train_pred), accuracy_score(y_test, y_test_pred)"
   ]
  },
  {
   "cell_type": "code",
   "execution_count": 230,
   "metadata": {},
   "outputs": [
    {
     "name": "stdout",
     "output_type": "stream",
     "text": [
      "              precision    recall  f1-score   support\n",
      "\n",
      "           0       0.40      0.97      0.57       386\n",
      "           1       0.40      0.16      0.23       391\n",
      "           2       0.54      0.41      0.47       375\n",
      "           3       0.61      0.03      0.05       388\n",
      "           4       0.39      0.55      0.46       387\n",
      "           5       0.63      0.59      0.61       391\n",
      "\n",
      "    accuracy                           0.45      2318\n",
      "   macro avg       0.49      0.45      0.40      2318\n",
      "weighted avg       0.49      0.45      0.40      2318\n",
      "\n"
     ]
    }
   ],
   "source": [
    "print(classification_report(y_train, y_train_pred))"
   ]
  },
  {
   "cell_type": "code",
   "execution_count": 231,
   "metadata": {},
   "outputs": [
    {
     "name": "stdout",
     "output_type": "stream",
     "text": [
      "              precision    recall  f1-score   support\n",
      "\n",
      "           0       0.38      0.94      0.54        97\n",
      "           1       0.42      0.22      0.29        92\n",
      "           2       0.57      0.39      0.46       108\n",
      "           3       0.50      0.05      0.10        95\n",
      "           4       0.42      0.56      0.48        96\n",
      "           5       0.64      0.53      0.58        92\n",
      "\n",
      "    accuracy                           0.45       580\n",
      "   macro avg       0.49      0.45      0.41       580\n",
      "weighted avg       0.49      0.45      0.41       580\n",
      "\n"
     ]
    }
   ],
   "source": [
    "print(classification_report(y_test, y_test_pred))"
   ]
  },
  {
   "cell_type": "code",
   "execution_count": 232,
   "metadata": {},
   "outputs": [
    {
     "name": "stdout",
     "output_type": "stream",
     "text": [
      "Разбиение: feature[10] < 10.89\n",
      " -> Левая ветка:\n",
      "  Разбиение: feature[6] < 50.85\n",
      "   -> Левая ветка:\n",
      "    Разбиение: feature[5] < 22.24\n",
      "     -> Левая ветка:\n",
      "      Лист: {np.float64(0.0): 0.39, np.float64(1.0): 0.16, np.float64(2.0): 0.17, np.float64(3.0): 0.14, np.float64(4.0): 0.08, np.float64(5.0): 0.06}\n",
      "     -> Правая ветка:\n",
      "      Лист: {np.float64(1.0): 0.6, np.float64(2.0): 0.16, np.float64(3.0): 0.19, np.float64(4.0): 0.05}\n",
      "   -> Правая ветка:\n",
      "    Разбиение: feature[6] < 105.55\n",
      "     -> Левая ветка:\n",
      "      Лист: {np.float64(1.0): 0.31, np.float64(2.0): 0.41, np.float64(3.0): 0.27, np.float64(4.0): 0.01}\n",
      "     -> Правая ветка:\n",
      "      Лист: {np.float64(1.0): 0.05, np.float64(2.0): 0.92, np.float64(3.0): 0.03}\n",
      " -> Правая ветка:\n",
      "  Разбиение: feature[5] < 8.37\n",
      "   -> Левая ветка:\n",
      "    Разбиение: feature[6] < 11.50\n",
      "     -> Левая ветка:\n",
      "      Лист: {np.float64(0.0): 0.01, np.float64(1.0): 0.35, np.float64(2.0): 0.07, np.float64(3.0): 0.22, np.float64(4.0): 0.35}\n",
      "     -> Правая ветка:\n",
      "      Лист: {np.float64(1.0): 0.03, np.float64(2.0): 0.03, np.float64(3.0): 0.1, np.float64(4.0): 0.24, np.float64(5.0): 0.6}\n",
      "   -> Правая ветка:\n",
      "    Разбиение: feature[5] < 13.25\n",
      "     -> Левая ветка:\n",
      "      Лист: {np.float64(1.0): 0.18, np.float64(2.0): 0.08, np.float64(3.0): 0.11, np.float64(4.0): 0.52, np.float64(5.0): 0.11}\n",
      "     -> Правая ветка:\n",
      "      Лист: {np.float64(1.0): 0.09, np.float64(2.0): 0.06, np.float64(3.0): 0.26, np.float64(4.0): 0.29, np.float64(5.0): 0.29}\n"
     ]
    }
   ],
   "source": [
    "print_tree(forest.trees[0].tree)"
   ]
  }
 ],
 "metadata": {
  "kernelspec": {
   "display_name": ".venv",
   "language": "python",
   "name": "python3"
  },
  "language_info": {
   "codemirror_mode": {
    "name": "ipython",
    "version": 3
   },
   "file_extension": ".py",
   "mimetype": "text/x-python",
   "name": "python",
   "nbconvert_exporter": "python",
   "pygments_lexer": "ipython3",
   "version": "3.11.0"
  }
 },
 "nbformat": 4,
 "nbformat_minor": 2
}
