{
 "cells": [
  {
   "cell_type": "markdown",
   "metadata": {},
   "source": [
    "<span style=\"font-size:16pt\">\n",
    "<p style=\"text-align: center;\">\n",
    "    МИНОБРНАУКИ РОССИИ <br>\n",
    "    РГУ НЕФТИ И ГАЗА (НИУ) ИМЕНИ И.М. ГУБКИНА<br>\n",
    "    ФАКУЛЬТЕТ АВТОМАТИКИ И ВЫЧИСЛИТЕЛЬНОЙ ТЕХНИКИ<br>\n",
    "    КАФЕДРА АВТОМАТИЗИРОВАННЫХ СИСТЕМ УПРАВЛЕНИЯ<br>  <br>\n",
    "    ДИСЦИПЛИНА <br>\n",
    "        «Теория принятия решений. Нечеткие модели»\n",
    "    <br><br> <br> <br> <br> <br>\n",
    "    ОТЧЁТ <br>\n",
    "    по лабораторной работе №4 <br>\n",
    "    «Нечёткий лес<br> <br> <br> <br> <br>  <br><br>\n",
    "</p>\n",
    "\n",
    "<p style=\"text-align: right;\">\n",
    "    Выполнил:<br>\n",
    "    студент группы АС-21-05, Негробов В.А.<br>\n",
    "    Проверил:<br>\n",
    "    Манзюк Н.Ю.<br><br> <br> <br> <br> <br><br> <br> <br>\n",
    "\n",
    "<p style=\"text-align: center;\">\n",
    "    МОСКВА 2025\n",
    "</p>\n",
    "   </span>"
   ]
  },
  {
   "cell_type": "markdown",
   "metadata": {},
   "source": [
    "# Подключение библиотек"
   ]
  },
  {
   "cell_type": "code",
   "execution_count": 3,
   "metadata": {},
   "outputs": [],
   "source": [
    "import numpy as np\n",
    "import pandas as pd\n",
    "from sklearn.model_selection import train_test_split\n",
    "from sklearn.metrics import accuracy_score, classification_report\n",
    "from scipy.stats import mode\n",
    "from sklearn.preprocessing import LabelEncoder\n",
    "from sklearn.ensemble import RandomForestClassifier\n",
    "import matplotlib.pyplot as plt\n",
    "import seaborn as sns"
   ]
  },
  {
   "cell_type": "markdown",
   "metadata": {},
   "source": [
    "Дерево решений – широко известный и популярный метод автоматического анализа данных, в основе которого лежит обучение на примерах. Правила представлены в виде иерархической последовательной структуры, где каждый объект принадлежит конкретному узлу.\n",
    "\n",
    "Однако может возникнуть случай, когда точно классифицировать объект по тому или иному признаку довольно трудно. Эти ситуации разрешаются благодаря возможностям нечеткой логики, когда говорят не просто о принадлежности к кому-то классу, признаку, атрибуту, а о её степени. При использовании нечетких деревьев решений (fuzzy decision trees) не теряются знания о том, что объект может обладать свойствами как одного признака, так и другого в той или иной мере.\n",
    "\n",
    "Главной идеей в таком подходе является сочетание возможностей деревьев решений и нечеткой логики."
   ]
  },
  {
   "cell_type": "markdown",
   "metadata": {},
   "source": [
    "Отличительной чертой деревьев решений является то, что каждый пример определенно принадлежит конкретному узлу. В нечетком случае это не так. Для каждого атрибута необходимо выделить несколько его лингвистических значений и определить степени принадлежности примеров к ним. Вместо количества примеров конкретного узла нечеткое дерево решений группирует их степень принадлежности. Коэффициент – это соотношение примеров Dj∈SN\n",
    " узла N\n",
    " для целевого значения i\n",
    ", вычисляемый как:"
   ]
  },
  {
   "attachments": {
    "{F60B047B-AAF3-448E-B481-5CD8B47C7D2D}.png": {
     "image/png": "[encoded data removed]"
    }
   },
   "cell_type": "markdown",
   "metadata": {},
   "source": [
    "![{F60B047B-AAF3-448E-B481-5CD8B47C7D2D}.png](attachment:{F60B047B-AAF3-448E-B481-5CD8B47C7D2D}.png)"
   ]
  },
  {
   "cell_type": "markdown",
   "metadata": {},
   "source": [
    "где $\\mu_N(D_j)$\n",
    " – степень принадлежности примера Dj\n",
    " к узлу N\n",
    ", $\\mu_i(D_j)$\n",
    " – степень принадлежности примера относительно целевого значения i\n",
    ", $S_N$\n",
    " – множество всех примеров узла N\n",
    ". Затем находим коэффициент $P_N$\n",
    ", обозначающий общие характеристики примеров узла N\n",
    ". В стандартном алгоритме дерева решений определяется отношение числа примеров, принадлежащих конкретному атрибуту, к общему числу примеров. Для нечетких деревьев используется отношение $\\frac{{P_i}^N}{P^N}$\n",
    ", для расчета которого учитывается степень принадлежности."
   ]
  },
  {
   "cell_type": "code",
   "execution_count": 4,
   "metadata": {},
   "outputs": [],
   "source": [
    "class FuzzyDecisionTree:\n",
    "    def __init__(self, max_depth=3, min_samples_split=2, k=10):\n",
    "        \"\"\"\n",
    "        max_depth: максимальная глубина дерева\n",
    "        min_samples_split: минимальное число образцов для разбиения узла\n",
    "        k: параметр, определяющий «размытие» разделения (чем больше k, тем резче разделение)\n",
    "        \"\"\"\n",
    "        self.max_depth = max_depth\n",
    "        self.min_samples_split = min_samples_split\n",
    "        self.k = k\n",
    "        self.tree = None\n",
    "\n",
    "    def fit(self, X, y):\n",
    "        \"\"\"\n",
    "        Метод для обучения дерева на данных.\n",
    "        Args:\n",
    "            X: матрица признаков (n_samples, n_features)\n",
    "            y: целевой вектор (n_samples,)\n",
    "        Returns:\n",
    "           None\n",
    "        \"\"\"\n",
    "        self.n_classes = len(np.unique(y))\n",
    "        data = np.hstack([X, y.reshape(-1,1)])\n",
    "        self.tree = self._build_tree(data, depth=0)\n",
    "\n",
    "    @staticmethod\n",
    "    def get_candidate_thresholds(values):\n",
    "        \"\"\"\n",
    "        Функция для получения кандидатов на пороговые значения для разбиения.\n",
    "        Args:\n",
    "            values: вектор значений признака (n_samples,)\n",
    "        Returns:\n",
    "           thresholds: вектор кандидатов на пороговые значения (n_samples-1,)\n",
    "        \"\"\"\n",
    "        return (values[:-1] + values[1:]) / 2\n",
    "    \n",
    "    @staticmethod\n",
    "    def calculate_fuzzy_weights(feature_values, threshold, k):\n",
    "        \"\"\"\n",
    "        Функция для вычисления весов для левого и правого поддерева.\n",
    "        Args:\n",
    "            feature_values: вектор значений признака (n_samples,)\n",
    "            threshold: пороговое значение\n",
    "            k: параметр нечёткости\n",
    "        Returns:\n",
    "           left_weights: веса для левого поддерева (n_samples,)\n",
    "           right_weights: веса для правого поддерева (n_samples,)\n",
    "        \"\"\"\n",
    "        left_weights = 1 / (1 + np.exp(k * (feature_values - threshold)))\n",
    "        right_weights = 1 - left_weights\n",
    "        return left_weights, right_weights\n",
    "    \n",
    "    @staticmethod\n",
    "    def calculate_weighted_impurity(left_distribution, right_distribution, left_total, right_total):\n",
    "        \"\"\"\n",
    "        Функция для вычисления взвешенной неопределённости.\n",
    "        Args:\n",
    "            left_distribution: распределение классов в левом поддереве (n_classes,)\n",
    "            right_distribution: распределение классов в правом поддереве (n_classes,)\n",
    "            left_total: сумма весов в левом поддереве (скаляр)\n",
    "            right_total: сумма весов в правом поддереве (скаляр)\n",
    "        Returns:\n",
    "           weighted_impurity: взвешенная неопределённость (скаляр)\n",
    "        \"\"\"\n",
    "        impurity_left = 1 - np.sum((np.array(left_distribution)/left_total)**2) if left_total > 0 else 0\n",
    "        impurity_right = 1 - np.sum((np.array(right_distribution)/right_total)**2) if right_total > 0 else 0\n",
    "\n",
    "        return (left_total * impurity_left + right_total * impurity_right) / (left_total + right_total)\n",
    "\n",
    "\n",
    "    def _build_tree(self, data, depth):\n",
    "        \"\"\"\n",
    "        Рекурсивная функция для построения дерева.\n",
    "        Args:\n",
    "            data: данные для построения узла (n_samples, n_features + 1)\n",
    "            depth: текущая глубина узла\n",
    "        Returns:\n",
    "            node: узел дерева (словарь)\n",
    "        \"\"\"\n",
    "        # Если достигнута максимальная глубина или слишком мало образцов, создаём лист\n",
    "        if depth == self.max_depth or len(data) < self.min_samples_split:\n",
    "            distribution = {}\n",
    "            for c in np.unique(data[:,-1]):\n",
    "                distribution[c] = np.mean(data[:,-1] == c)\n",
    "            return {'is_leaf': True, 'class_distribution': distribution}\n",
    "\n",
    "        best_feature = None\n",
    "        best_threshold = None\n",
    "        best_impurity = np.inf\n",
    "        best_split = None\n",
    "\n",
    "        n_features = data.shape[1] - 1\n",
    "        # Перебор всех признаков и кандидатов для порога\n",
    "        for feature in range(n_features):\n",
    "            values = data[:, feature]\n",
    "            unique_vals = np.unique(values)\n",
    "            if len(unique_vals) == 1:\n",
    "                continue\n",
    "            # Используем средние точки между отсортированными уникальными значениями\n",
    "            candidate_thresholds = self.get_candidate_thresholds(unique_vals)\n",
    "            for threshold in candidate_thresholds:\n",
    "                # Вычисляем степень принадлежности к левой ветке с помощью сигмоидальной функции\n",
    "                left_weights, right_weights = self.calculate_fuzzy_weights(data[:, feature], threshold, self.k)\n",
    "\n",
    "                total_left = np.sum(left_weights)\n",
    "                total_right = np.sum(right_weights)\n",
    "                if total_left < 1e-6 or total_right < 1e-6:\n",
    "                    continue\n",
    "\n",
    "                # Расчёт нечеткой (взвешенной) классификации для каждой ветки\n",
    "                left_distribution = {}\n",
    "                right_distribution = {}\n",
    "                for c in range(self.n_classes):\n",
    "                    mask = (data[:,-1] == c)\n",
    "                    w_left = np.sum(left_weights[mask])\n",
    "                    w_right = np.sum(right_weights[mask])\n",
    "                    left_distribution[c] = w_left\n",
    "                    right_distribution[c] = w_right\n",
    "\n",
    "                left_total = np.sum(list(left_distribution.values()))\n",
    "                right_total = np.sum(list(right_distribution.values()))\n",
    "\n",
    "\n",
    "                weighted_impurity = self.calculate_weighted_impurity(list(left_distribution.values()), list(right_distribution.values()), left_total, right_total)\n",
    "                if weighted_impurity < best_impurity:\n",
    "                    best_impurity = weighted_impurity\n",
    "                    best_feature = feature\n",
    "                    best_threshold = threshold\n",
    "                    best_split = (left_weights, right_weights)\n",
    "\n",
    "        # Если не найдено подходящего разбиения, создаём лист\n",
    "        if best_feature is None:\n",
    "            distribution = {}\n",
    "            for c in np.unique(data[:,-1]):\n",
    "                distribution[c] = np.mean(data[:,-1] == c)\n",
    "            return {'is_leaf': True, 'class_distribution': distribution}\n",
    "\n",
    "        # \"Жёсткое\" разбиение: каждый объект идёт в ту ветку, к которой у него степень принадлежности больше\n",
    "        crisp_assignments = best_split[0] >= best_split[1]\n",
    "        left_data = data[crisp_assignments]\n",
    "        right_data = data[~crisp_assignments]\n",
    "\n",
    "        left_tree = self._build_tree(left_data, depth+1)\n",
    "        right_tree = self._build_tree(right_data, depth+1)\n",
    "        return {\n",
    "            'is_leaf': False,\n",
    "            'feature': best_feature,\n",
    "            'threshold': best_threshold,\n",
    "            'left': left_tree,\n",
    "            'right': right_tree\n",
    "        }\n",
    "\n",
    "    def _predict_sample(self, x, node):\n",
    "        \"\"\"\n",
    "        Вспомогательная функция для предсказания для одного объекта\n",
    "        Args:\n",
    "           x (np.array): Вектор признаков объекта\n",
    "           node (dict): Узел дерева, с которого начинается предсказание\n",
    "        Returns:\n",
    "          dict: Словарь с вероятностями классов для данного объекта\n",
    "        \"\"\"\n",
    "        # Рекурсивный проход по дереву\n",
    "        if node['is_leaf']:\n",
    "            return node['class_distribution']\n",
    "        feature = node['feature']\n",
    "        threshold = node['threshold']\n",
    "        left_weight = 1 / (1 + np.exp(self.k * (x[feature] - threshold)))\n",
    "        right_weight = 1 - left_weight\n",
    "        left_pred = self._predict_sample(x, node['left'])\n",
    "        right_pred = self._predict_sample(x, node['right'])\n",
    "        # Агрегация предсказаний с учётом нечетких весов\n",
    "        combined = {}\n",
    "        for c in range(self.n_classes):\n",
    "            combined[c] = left_weight * left_pred.get(c, 0) + right_weight * right_pred.get(c, 0)\n",
    "        return combined\n",
    "\n",
    "    def predict(self, X):\n",
    "        \"\"\"\n",
    "        Функция для предсказания классов для множества объектов\n",
    "        Args:\n",
    "            X (np.array): Матрица признаков объектов, для которых нужно сделать предсказание\n",
    "        Returns:\n",
    "            np.array: Вектор предсказанных классов для каждого объекта\n",
    "        \"\"\"\n",
    "        preds = []\n",
    "        for i in range(X.shape[0]):\n",
    "            distribution = self._predict_sample(X[i], self.tree)\n",
    "            pred_class = max(distribution, key=distribution.get)\n",
    "            preds.append(pred_class)\n",
    "        return np.array(preds)"
   ]
  },
  {
   "cell_type": "code",
   "execution_count": 5,
   "metadata": {},
   "outputs": [],
   "source": [
    "class FuzzyRandomForest:\n",
    "    \"\"\" Класс для реализации нечеткого случайного леса \"\"\"\n",
    "    def __init__(self, n_estimators=10, max_depth=3, min_samples_split=2, k=10):\n",
    "        self.n_estimators = n_estimators\n",
    "        self.max_depth = max_depth\n",
    "        self.min_samples_split = min_samples_split\n",
    "        self.k = k\n",
    "        self.trees = []\n",
    "\n",
    "    def fit(self, X, y):\n",
    "        \"\"\"\n",
    "        Построение леса на основе обучающей выборки X и меток y\n",
    "        Args:\n",
    "            X (np.array): Матрица признаков обучающей выборки\n",
    "            y (np.array): Вектор меток классов для обучающей выборки\n",
    "        Returns:\n",
    "            None\n",
    "        \"\"\"\n",
    "        n_samples, n_features = X.shape\n",
    "        for i in range(self.n_estimators):\n",
    "            # Bootstrap-подвыборка\n",
    "            indices = np.random.choice(n_samples, n_samples, replace=True)\n",
    "            X_sample = X[indices]\n",
    "            y_sample = y[indices]\n",
    "            tree = FuzzyDecisionTree(\n",
    "                max_depth=self.max_depth,\n",
    "                min_samples_split=self.min_samples_split,\n",
    "                k=self.k\n",
    "            )\n",
    "            tree.fit(X_sample, y_sample)\n",
    "            self.trees.append(tree)\n",
    "\n",
    "    def predict(self, X):\n",
    "        \"\"\"\n",
    "        Функция для предсказания классов для множества объектов\n",
    "        Args:\n",
    "            X (np.array): Матрица признаков объектов, для которых нужно сделать предсказание\n",
    "        Returns:\n",
    "            np.array: Вектор предсказанных классов для каждого объекта\n",
    "        \"\"\"\n",
    "        predictions = []\n",
    "        for tree in self.trees:\n",
    "            predictions.append(tree.predict(X))\n",
    "        predictions = np.array(predictions)  # форма (n_estimators, n_samples)\n",
    "        final_predictions, _ = mode(predictions, axis=0)\n",
    "        return final_predictions.flatten()"
   ]
  },
  {
   "cell_type": "code",
   "execution_count": 6,
   "metadata": {},
   "outputs": [],
   "source": [
    "def print_tree(node, indent=\"\"):\n",
    "    \"\"\"\n",
    "    Рекурсивная печать структуры дерева в консоль.\n",
    "    Args:\n",
    "        node (dict): Узел дерева, который нужно напечатать.\n",
    "        indent (str): Отступ для форматирования вывода. По умолчанию пустая строка.\n",
    "    Returns:\n",
    "       None\n",
    "    \"\"\"\n",
    "    if node['is_leaf']:\n",
    "        print(indent + \"Лист:\", {k: float(round(v, 2))\n",
    "                                 for k, v in node['class_distribution'].items()})\n",
    "    else:\n",
    "        print(indent + f\"Разбиение: feature[{node['feature']}] < {float(node['threshold']):.2f}\")\n",
    "        print(indent + \" -> Левая ветка:\")\n",
    "        print_tree(node['left'], indent + \"  \")\n",
    "        print(indent + \" -> Правая ветка:\")\n",
    "        print_tree(node['right'], indent + \"  \")"
   ]
  },
  {
   "cell_type": "markdown",
   "metadata": {},
   "source": [
    "# Данные используемые для обучения"
   ]
  },
  {
   "cell_type": "markdown",
   "metadata": {},
   "source": [
    "В наборе данных представлены записи об о 150 цветках ириса, данные о каждом цветке расположены в отдельной строке.\n",
    "В первых четырёх столбцах записаны характеристики цветка: длина наружной доли околоцветника в сантиметрах, длина внутренней доли околоцветника в сантиметрах, ширина наружной доли околоцветника в сантиметрах, ширина внутренней доли околоцветника в сантиметрах. В пятом столбце записано название вида цветка.\n",
    "\n",
    "В наборе данных представлены три вида ириса: Iris setosa, Iris versicolor и Iris virginica."
   ]
  },
  {
   "cell_type": "code",
   "execution_count": 7,
   "metadata": {},
   "outputs": [
    {
     "data": {
      "text/html": [
       "<div>\n",
       "<style scoped>\n",
       "    .dataframe tbody tr th:only-of-type {\n",
       "        vertical-align: middle;\n",
       "    }\n",
       "\n",
       "    .dataframe tbody tr th {\n",
       "        vertical-align: top;\n",
       "    }\n",
       "\n",
       "    .dataframe thead th {\n",
       "        text-align: right;\n",
       "    }\n",
       "</style>\n",
       "<table border=\"1\" class=\"dataframe\">\n",
       "  <thead>\n",
       "    <tr style=\"text-align: right;\">\n",
       "      <th></th>\n",
       "      <th>SepalLengthCm</th>\n",
       "      <th>SepalWidthCm</th>\n",
       "      <th>PetalLengthCm</th>\n",
       "      <th>PetalWidthCm</th>\n",
       "      <th>Species</th>\n",
       "    </tr>\n",
       "    <tr>\n",
       "      <th>Id</th>\n",
       "      <th></th>\n",
       "      <th></th>\n",
       "      <th></th>\n",
       "      <th></th>\n",
       "      <th></th>\n",
       "    </tr>\n",
       "  </thead>\n",
       "  <tbody>\n",
       "    <tr>\n",
       "      <th>1</th>\n",
       "      <td>5.1</td>\n",
       "      <td>3.5</td>\n",
       "      <td>1.4</td>\n",
       "      <td>0.2</td>\n",
       "      <td>Iris-setosa</td>\n",
       "    </tr>\n",
       "    <tr>\n",
       "      <th>2</th>\n",
       "      <td>4.9</td>\n",
       "      <td>3.0</td>\n",
       "      <td>1.4</td>\n",
       "      <td>0.2</td>\n",
       "      <td>Iris-setosa</td>\n",
       "    </tr>\n",
       "    <tr>\n",
       "      <th>3</th>\n",
       "      <td>4.7</td>\n",
       "      <td>3.2</td>\n",
       "      <td>1.3</td>\n",
       "      <td>0.2</td>\n",
       "      <td>Iris-setosa</td>\n",
       "    </tr>\n",
       "    <tr>\n",
       "      <th>4</th>\n",
       "      <td>4.6</td>\n",
       "      <td>3.1</td>\n",
       "      <td>1.5</td>\n",
       "      <td>0.2</td>\n",
       "      <td>Iris-setosa</td>\n",
       "    </tr>\n",
       "    <tr>\n",
       "      <th>5</th>\n",
       "      <td>5.0</td>\n",
       "      <td>3.6</td>\n",
       "      <td>1.4</td>\n",
       "      <td>0.2</td>\n",
       "      <td>Iris-setosa</td>\n",
       "    </tr>\n",
       "    <tr>\n",
       "      <th>...</th>\n",
       "      <td>...</td>\n",
       "      <td>...</td>\n",
       "      <td>...</td>\n",
       "      <td>...</td>\n",
       "      <td>...</td>\n",
       "    </tr>\n",
       "    <tr>\n",
       "      <th>146</th>\n",
       "      <td>6.7</td>\n",
       "      <td>3.0</td>\n",
       "      <td>5.2</td>\n",
       "      <td>2.3</td>\n",
       "      <td>Iris-virginica</td>\n",
       "    </tr>\n",
       "    <tr>\n",
       "      <th>147</th>\n",
       "      <td>6.3</td>\n",
       "      <td>2.5</td>\n",
       "      <td>5.0</td>\n",
       "      <td>1.9</td>\n",
       "      <td>Iris-virginica</td>\n",
       "    </tr>\n",
       "    <tr>\n",
       "      <th>148</th>\n",
       "      <td>6.5</td>\n",
       "      <td>3.0</td>\n",
       "      <td>5.2</td>\n",
       "      <td>2.0</td>\n",
       "      <td>Iris-virginica</td>\n",
       "    </tr>\n",
       "    <tr>\n",
       "      <th>149</th>\n",
       "      <td>6.2</td>\n",
       "      <td>3.4</td>\n",
       "      <td>5.4</td>\n",
       "      <td>2.3</td>\n",
       "      <td>Iris-virginica</td>\n",
       "    </tr>\n",
       "    <tr>\n",
       "      <th>150</th>\n",
       "      <td>5.9</td>\n",
       "      <td>3.0</td>\n",
       "      <td>5.1</td>\n",
       "      <td>1.8</td>\n",
       "      <td>Iris-virginica</td>\n",
       "    </tr>\n",
       "  </tbody>\n",
       "</table>\n",
       "<p>150 rows × 5 columns</p>\n",
       "</div>"
      ],
      "text/plain": [
       "     SepalLengthCm  SepalWidthCm  PetalLengthCm  PetalWidthCm         Species\n",
       "Id                                                                           \n",
       "1              5.1           3.5            1.4           0.2     Iris-setosa\n",
       "2              4.9           3.0            1.4           0.2     Iris-setosa\n",
       "3              4.7           3.2            1.3           0.2     Iris-setosa\n",
       "4              4.6           3.1            1.5           0.2     Iris-setosa\n",
       "5              5.0           3.6            1.4           0.2     Iris-setosa\n",
       "..             ...           ...            ...           ...             ...\n",
       "146            6.7           3.0            5.2           2.3  Iris-virginica\n",
       "147            6.3           2.5            5.0           1.9  Iris-virginica\n",
       "148            6.5           3.0            5.2           2.0  Iris-virginica\n",
       "149            6.2           3.4            5.4           2.3  Iris-virginica\n",
       "150            5.9           3.0            5.1           1.8  Iris-virginica\n",
       "\n",
       "[150 rows x 5 columns]"
      ]
     },
     "execution_count": 7,
     "metadata": {},
     "output_type": "execute_result"
    }
   ],
   "source": [
    "data_path = r'data\\Iris.csv'\n",
    "target_var = 'Species'\n",
    "df = pd.read_csv(data_path, index_col='Id')\n",
    "df"
   ]
  },
  {
   "cell_type": "markdown",
   "metadata": {},
   "source": [
    "Построение графика Boxplot для каждого признака в DataFrame с использованием библиотеки Matplotlib и Seaborn. B \n",
    "Boxplot - это график, который условно изображает статистические данные в виде прямоугольника (ящика), у которого есть усы. Boxplot показывает распределение данных и выявляет выбросы. Он состоит из коробки (box), усов (whiskers) и точек (outliers). Коробка охватывает интерквартильный размах (IQR), усы простираются до минимального и максимального значений, не считая выбросов, а выбросы отмечаются отдельными точками.\n",
    "\n",
    "Boxplot позволяет визуально оценить медиану, квартили, размах и выбросы в данных."
   ]
  },
  {
   "cell_type": "code",
   "execution_count": 8,
   "metadata": {},
   "outputs": [
    {
     "data": {
      "text/plain": [
       "<Axes: >"
      ]
     },
     "execution_count": 8,
     "metadata": {},
     "output_type": "execute_result"
    },
    {
     "data": {
      "image/png": "[encoded data removed]",
      "text/plain": [
       "<Figure size 2500x1000 with 1 Axes>"
      ]
     },
     "metadata": {},
     "output_type": "display_data"
    }
   ],
   "source": [
    "plt.figure(figsize=(25, 10))\n",
    "df.boxplot()"
   ]
  },
  {
   "cell_type": "markdown",
   "metadata": {},
   "source": [
    "Количество записей для каждого класса данных одинаковое"
   ]
  },
  {
   "cell_type": "code",
   "execution_count": 9,
   "metadata": {},
   "outputs": [
    {
     "data": {
      "text/plain": [
       "<Axes: xlabel='Species', ylabel='Count'>"
      ]
     },
     "execution_count": 9,
     "metadata": {},
     "output_type": "execute_result"
    },
    {
     "data": {
      "image/png": "[encoded data removed]",
      "text/plain": [
       "<Figure size 640x480 with 1 Axes>"
      ]
     },
     "metadata": {},
     "output_type": "display_data"
    }
   ],
   "source": [
    "sns.histplot(data=df, x=target_var, fill=True, binwidth=1)"
   ]
  },
  {
   "cell_type": "code",
   "execution_count": 10,
   "metadata": {},
   "outputs": [
    {
     "data": {
      "text/plain": [
       "((150, 4), (150,))"
      ]
     },
     "execution_count": 10,
     "metadata": {},
     "output_type": "execute_result"
    }
   ],
   "source": [
    "X = df.drop(target_var, axis=1).values\n",
    "y = df[target_var].values\n",
    "X.shape, y.shape"
   ]
  },
  {
   "cell_type": "markdown",
   "metadata": {},
   "source": [
    "Кодирование вида цветка (диапазон от 0 до 2 включительно)"
   ]
  },
  {
   "cell_type": "code",
   "execution_count": 11,
   "metadata": {},
   "outputs": [
    {
     "data": {
      "text/plain": [
       "(np.int64(0), np.int64(2))"
      ]
     },
     "execution_count": 11,
     "metadata": {},
     "output_type": "execute_result"
    }
   ],
   "source": [
    "le = LabelEncoder()\n",
    "y = le.fit_transform(y)\n",
    "y.min(), y.max()"
   ]
  },
  {
   "cell_type": "code",
   "execution_count": 12,
   "metadata": {},
   "outputs": [
    {
     "data": {
      "text/plain": [
       "((120, 4), (30, 4), (120,), (30,))"
      ]
     },
     "execution_count": 12,
     "metadata": {},
     "output_type": "execute_result"
    }
   ],
   "source": [
    "# Разделение данных на тренировочный и тестовый наборы\n",
    "\n",
    "X_train, X_test, y_train, y_test = train_test_split(X, y, test_size=0.2, random_state=42)\n",
    "X_train.shape, X_test.shape, y_train.shape, y_test.shape"
   ]
  },
  {
   "cell_type": "markdown",
   "metadata": {},
   "source": [
    "# Чёткий случайный лес"
   ]
  },
  {
   "cell_type": "markdown",
   "metadata": {},
   "source": [
    "Использование чёткого случайного леса как Baseline решения задачи\n",
    "Baseline - это простая модель, которая используется в качестве отправной точки для сравнения с более сложными моделями."
   ]
  },
  {
   "cell_type": "code",
   "execution_count": null,
   "metadata": {},
   "outputs": [],
   "source": [
    "forest = RandomForestClassifier()\n",
    "forest.fit(X_train, y_train)\n",
    "y_train_pred = forest.predict(X_train)\n",
    "y_test_pred = forest.predict(X_test)"
   ]
  },
  {
   "cell_type": "markdown",
   "metadata": {},
   "source": [
    "Чёткий случайный лес решает задачу идеально, так как значения всех метрик равны 1. Это означает, что модель идеально предсказывает классы для всех объектов в тренировочном и тестовом набо"
   ]
  },
  {
   "cell_type": "code",
   "execution_count": 14,
   "metadata": {},
   "outputs": [
    {
     "data": {
      "text/plain": [
       "(1.0, 1.0)"
      ]
     },
     "execution_count": 14,
     "metadata": {},
     "output_type": "execute_result"
    }
   ],
   "source": [
    "accuracy_score(y_train, y_train_pred), accuracy_score(y_test, y_test_pred)"
   ]
  },
  {
   "cell_type": "code",
   "execution_count": 15,
   "metadata": {},
   "outputs": [
    {
     "name": "stdout",
     "output_type": "stream",
     "text": [
      "              precision    recall  f1-score   support\n",
      "\n",
      "           0       1.00      1.00      1.00        40\n",
      "           1       1.00      1.00      1.00        41\n",
      "           2       1.00      1.00      1.00        39\n",
      "\n",
      "    accuracy                           1.00       120\n",
      "   macro avg       1.00      1.00      1.00       120\n",
      "weighted avg       1.00      1.00      1.00       120\n",
      "\n"
     ]
    }
   ],
   "source": [
    "print(classification_report(y_train, y_train_pred))"
   ]
  },
  {
   "cell_type": "code",
   "execution_count": 16,
   "metadata": {},
   "outputs": [
    {
     "name": "stdout",
     "output_type": "stream",
     "text": [
      "              precision    recall  f1-score   support\n",
      "\n",
      "           0       1.00      1.00      1.00        10\n",
      "           1       1.00      1.00      1.00         9\n",
      "           2       1.00      1.00      1.00        11\n",
      "\n",
      "    accuracy                           1.00        30\n",
      "   macro avg       1.00      1.00      1.00        30\n",
      "weighted avg       1.00      1.00      1.00        30\n",
      "\n"
     ]
    }
   ],
   "source": [
    "print(classification_report(y_test, y_test_pred))"
   ]
  },
  {
   "cell_type": "markdown",
   "metadata": {},
   "source": [
    "# Нечёткий случайный лес"
   ]
  },
  {
   "cell_type": "markdown",
   "metadata": {},
   "source": [
    "Использование реализованного нечёткого случайного леса для решения задачи классификации цветков иррисов"
   ]
  },
  {
   "cell_type": "code",
   "execution_count": 17,
   "metadata": {},
   "outputs": [],
   "source": [
    "forest = FuzzyRandomForest(\n",
    "    n_estimators=100,\n",
    "    max_depth=4,\n",
    "    min_samples_split=10,\n",
    "    k=10\n",
    ")\n",
    "\n",
    "forest.fit(X_train, y_train)"
   ]
  },
  {
   "cell_type": "code",
   "execution_count": 18,
   "metadata": {},
   "outputs": [],
   "source": [
    "y_train_pred = forest.predict(X_train)\n",
    "y_test_pred = forest.predict(X_test)"
   ]
  },
  {
   "cell_type": "markdown",
   "metadata": {},
   "source": [
    "Нечёткий случайный лес на тестовой выборке также показывает идеальные результаты, что означает, что модель идеально предсказывает классы для всех объектов в тестовом наборе.\n",
    "Однако, на тренировочной выборке модель показывает неидеальные результаты, что может быть связано с некими выбросами в данных."
   ]
  },
  {
   "cell_type": "code",
   "execution_count": 19,
   "metadata": {},
   "outputs": [
    {
     "data": {
      "text/plain": [
       "(0.9666666666666667, 1.0)"
      ]
     },
     "execution_count": 19,
     "metadata": {},
     "output_type": "execute_result"
    }
   ],
   "source": [
    "accuracy_score(y_train, y_train_pred), accuracy_score(y_test, y_test_pred)"
   ]
  },
  {
   "cell_type": "code",
   "execution_count": 20,
   "metadata": {},
   "outputs": [
    {
     "name": "stdout",
     "output_type": "stream",
     "text": [
      "              precision    recall  f1-score   support\n",
      "\n",
      "           0       1.00      1.00      1.00        40\n",
      "           1       0.97      0.93      0.95        41\n",
      "           2       0.93      0.97      0.95        39\n",
      "\n",
      "    accuracy                           0.97       120\n",
      "   macro avg       0.97      0.97      0.97       120\n",
      "weighted avg       0.97      0.97      0.97       120\n",
      "\n"
     ]
    }
   ],
   "source": [
    "print(classification_report(y_train, y_train_pred))"
   ]
  },
  {
   "cell_type": "code",
   "execution_count": 21,
   "metadata": {},
   "outputs": [
    {
     "name": "stdout",
     "output_type": "stream",
     "text": [
      "              precision    recall  f1-score   support\n",
      "\n",
      "           0       1.00      1.00      1.00        10\n",
      "           1       1.00      1.00      1.00         9\n",
      "           2       1.00      1.00      1.00        11\n",
      "\n",
      "    accuracy                           1.00        30\n",
      "   macro avg       1.00      1.00      1.00        30\n",
      "weighted avg       1.00      1.00      1.00        30\n",
      "\n"
     ]
    }
   ],
   "source": [
    "print(classification_report(y_test, y_test_pred))"
   ]
  },
  {
   "cell_type": "markdown",
   "metadata": {},
   "source": [
    "Визуализация одного из нечётких решающий деревьевьев из нечёткого случайного леса"
   ]
  },
  {
   "cell_type": "code",
   "execution_count": 22,
   "metadata": {},
   "outputs": [
    {
     "name": "stdout",
     "output_type": "stream",
     "text": [
      "Разбиение: feature[2] < 2.70\n",
      " -> Левая ветка:\n",
      "  Разбиение: feature[0] < 4.35\n",
      "   -> Левая ветка:\n",
      "    Лист: {np.float64(0.0): 1.0}\n",
      "   -> Правая ветка:\n",
      "    Разбиение: feature[0] < 4.45\n",
      "     -> Левая ветка:\n",
      "      Лист: {np.float64(0.0): 1.0}\n",
      "     -> Правая ветка:\n",
      "      Разбиение: feature[0] < 4.55\n",
      "       -> Левая ветка:\n",
      "        Лист: {np.float64(0.0): 1.0}\n",
      "       -> Правая ветка:\n",
      "        Лист: {np.float64(0.0): 1.0}\n",
      " -> Правая ветка:\n",
      "  Разбиение: feature[2] < 4.85\n",
      "   -> Левая ветка:\n",
      "    Разбиение: feature[3] < 1.70\n",
      "     -> Левая ветка:\n",
      "      Разбиение: feature[0] < 5.10\n",
      "       -> Левая ветка:\n",
      "        Лист: {np.float64(1.0): 1.0}\n",
      "       -> Правая ветка:\n",
      "        Лист: {np.float64(1.0): 1.0}\n",
      "     -> Правая ветка:\n",
      "      Лист: {np.float64(1.0): 0.33, np.float64(2.0): 0.67}\n",
      "   -> Правая ветка:\n",
      "    Разбиение: feature[2] < 5.20\n",
      "     -> Левая ветка:\n",
      "      Разбиение: feature[0] < 6.50\n",
      "       -> Левая ветка:\n",
      "        Лист: {np.float64(1.0): 0.08, np.float64(2.0): 0.92}\n",
      "       -> Правая ветка:\n",
      "        Лист: {np.float64(1.0): 1.0}\n",
      "     -> Правая ветка:\n",
      "      Разбиение: feature[0] < 6.20\n",
      "       -> Левая ветка:\n",
      "        Лист: {np.float64(2.0): 1.0}\n",
      "       -> Правая ветка:\n",
      "        Лист: {np.float64(2.0): 1.0}\n"
     ]
    }
   ],
   "source": [
    "print_tree(forest.trees[0].tree)"
   ]
  }
 ],
 "metadata": {
  "kernelspec": {
   "display_name": ".venv",
   "language": "python",
   "name": "python3"
  },
  "language_info": {
   "codemirror_mode": {
    "name": "ipython",
    "version": 3
   },
   "file_extension": ".py",
   "mimetype": "text/x-python",
   "name": "python",
   "nbconvert_exporter": "python",
   "pygments_lexer": "ipython3",
   "version": "3.11.0"
  }
 },
 "nbformat": 4,
 "nbformat_minor": 2
}
