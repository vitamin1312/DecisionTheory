{
 "cells": [
  {
   "cell_type": "markdown",
   "metadata": {},
   "source": [
    "<span style=\"font-size:16pt\">\n",
    "<p style=\"text-align: center;\">\n",
    "    МИНОБРНАУКИ РОССИИ <br>\n",
    "    РГУ НЕФТИ И ГАЗА (НИУ) ИМЕНИ И.М. ГУБКИНА<br>\n",
    "    ФАКУЛЬТЕТ АВТОМАТИКИ И ВЫЧИСЛИТЕЛЬНОЙ ТЕХНИКИ<br>\n",
    "    КАФЕДРА АВТОМАТИЗИРОВАННЫХ СИСТЕМ УПРАВЛЕНИЯ<br>  <br>\n",
    "    ДИСЦИПЛИНА <br>\n",
    "        «Теория принятия решений. Нечеткие модели»\n",
    "    <br><br> <br> <br> <br> <br>\n",
    "    ОТЧЁТ <br>\n",
    "    по лабораторной работе №4 <br>\n",
    "    «Нечёткий лес<br> <br> <br> <br> <br>  <br><br>\n",
    "</p>\n",
    "\n",
    "<p style=\"text-align: right;\">\n",
    "    Выполнил:<br>\n",
    "    студент группы АС-21-05, Негробов В.А.<br>\n",
    "    Проверил:<br>\n",
    "    Манзюк Н.Ю.<br><br> <br> <br> <br> <br><br> <br> <br>\n",
    "\n",
    "<p style=\"text-align: center;\">\n",
    "    МОСКВА 2025\n",
    "</p>\n",
    "   </span>"
   ]
  },
  {
   "cell_type": "markdown",
   "metadata": {},
   "source": []
  }
 ],
 "metadata": {
  "language_info": {
   "name": "python"
  }
 },
 "nbformat": 4,
 "nbformat_minor": 2
}
